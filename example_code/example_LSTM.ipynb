{
 "cells": [
  {
   "attachments": {},
   "cell_type": "markdown",
   "metadata": {},
   "source": [
    "# Example Pytorch Model Using the TIHM Pytorch Dataset:"
   ]
  },
  {
   "attachments": {},
   "cell_type": "markdown",
   "metadata": {},
   "source": [
    "## Data Loading:"
   ]
  },
  {
   "cell_type": "code",
   "execution_count": 1,
   "metadata": {},
   "outputs": [],
   "source": [
    "# torch imports\n",
    "import torch\n",
    "import torch.nn as nn\n",
    "import torch.nn.functional as F\n",
    "from torch.utils import data as torchdata\n",
    "\n",
    "# sklearn imports\n",
    "from sklearn.utils import compute_sample_weight\n",
    "from sklearn import metrics\n",
    "\n",
    "# usual imports\n",
    "import numpy as np\n",
    "import pandas as pd\n",
    "import tqdm\n",
    "import matplotlib.pyplot as plt\n",
    "\n",
    "# loading dataset\n",
    "from data_loader import TIHMDataset"
   ]
  },
  {
   "cell_type": "code",
   "execution_count": 2,
   "metadata": {},
   "outputs": [],
   "source": [
    "# Please change the path with the path of your dataset\n",
    "DPATH = '../Dataset/'"
   ]
  },
  {
   "cell_type": "code",
   "execution_count": 3,
   "metadata": {},
   "outputs": [],
   "source": [
    "train_dataset = TIHMDataset(\n",
    "    root=DPATH, train=True, normalise='global', n_days=7\n",
    "    )\n",
    "\n",
    "test_dataset = TIHMDataset(\n",
    "    root=DPATH, train=False, normalise='global', n_days=7\n",
    "    )"
   ]
  },
  {
   "cell_type": "code",
   "execution_count": 4,
   "metadata": {},
   "outputs": [
    {
     "name": "stdout",
     "output_type": "stream",
     "text": [
      "The target names are:\n",
      "['Blood pressure', 'Agitation', 'Body water', 'Pulse', 'Weight', 'Body temperature']\n"
     ]
    }
   ],
   "source": [
    "print(f\"The target names are:\\n{train_dataset.target_names}\")"
   ]
  },
  {
   "attachments": {},
   "cell_type": "markdown",
   "metadata": {},
   "source": [
    "This dataset can be passed to a dataloader: (we will apply some pre-processing and define these again later)"
   ]
  },
  {
   "cell_type": "code",
   "execution_count": 6,
   "metadata": {},
   "outputs": [],
   "source": [
    "train_dl = torchdata.DataLoader(\n",
    "    dataset=train_dataset, batch_size=100, shuffle=True,\n",
    "    )\n",
    "\n",
    "test_dl = torchdata.DataLoader(\n",
    "    dataset=test_dataset, batch_size=100, shuffle=False,\n",
    "    )"
   ]
  },
  {
   "cell_type": "code",
   "execution_count": 9,
   "metadata": {},
   "outputs": [
    {
     "name": "stdout",
     "output_type": "stream",
     "text": [
      "The total number of batches is 17\n"
     ]
    }
   ],
   "source": [
    "print(f\"The total number of batches is {len(train_dl)}\")"
   ]
  },
  {
   "attachments": {},
   "cell_type": "markdown",
   "metadata": {},
   "source": [
    "Let us define the problem. We want to use the input data to predict there was agitation on a given day using the past 7 days worth of data. "
   ]
  },
  {
   "cell_type": "code",
   "execution_count": 15,
   "metadata": {},
   "outputs": [],
   "source": [
    "class AgitationDataset(torchdata.Dataset):\n",
    "    def __init__(self, dataset):\n",
    "        self.data, self.target = [], []\n",
    "        \n",
    "        for x, y in dataset:\n",
    "            self.data.append(torch.tensor(x).float())\n",
    "            self.target.append(np.int64(y[-1, 1]>=1)) # the last of the days and agitation\n",
    "        \n",
    "        # also define the sample weight\n",
    "        self.sw = compute_sample_weight(class_weight='balanced', y=self.target)\n",
    "\n",
    "    def __getitem__(self, index):\n",
    "        return self.data[index], self.target[index], self.sw[index]\n",
    "    \n",
    "    def __len__(self):\n",
    "        return len(self.data)"
   ]
  },
  {
   "cell_type": "code",
   "execution_count": 17,
   "metadata": {},
   "outputs": [],
   "source": [
    "train_agitation_dataset = AgitationDataset(train_dataset)\n",
    "test_agitation_dataset = AgitationDataset(test_dataset)"
   ]
  },
  {
   "cell_type": "code",
   "execution_count": 19,
   "metadata": {},
   "outputs": [],
   "source": [
    "train_dl = torchdata.DataLoader(\n",
    "    dataset=train_agitation_dataset, batch_size=100, shuffle=True,\n",
    "    )\n",
    "\n",
    "test_dl = torchdata.DataLoader(\n",
    "    dataset=test_agitation_dataset, batch_size=100, shuffle=False,\n",
    "    )"
   ]
  },
  {
   "attachments": {},
   "cell_type": "markdown",
   "metadata": {},
   "source": [
    "## LSTM"
   ]
  },
  {
   "attachments": {},
   "cell_type": "markdown",
   "metadata": {},
   "source": [
    "Define an LSTM model:"
   ]
  },
  {
   "cell_type": "code",
   "execution_count": 23,
   "metadata": {},
   "outputs": [],
   "source": [
    "# simple LSTM\n",
    "class LSTMModel(nn.Module):\n",
    "    def __init__(self, input_dim, sequence_length, hidden_size):\n",
    "        super().__init__()\n",
    "        self.layer1 = nn.Sequential(\n",
    "            nn.Linear(input_dim, input_dim),\n",
    "            nn.BatchNorm1d(num_features=sequence_length),\n",
    "            nn.ReLU(),\n",
    "            )\n",
    "        self.lstm = nn.LSTM(\n",
    "            input_dim, hidden_size, batch_first=True,\n",
    "            )\n",
    "        self.layer2 = nn.Sequential(\n",
    "            nn.Linear(hidden_size, 2)\n",
    "            )\n",
    "\n",
    "    def forward(self, x):\n",
    "        x = self.layer1(x)\n",
    "        x, _ = self.lstm(x)\n",
    "        x = x[:, -1, :] # get the value from the last of the sequence\n",
    "        x = self.layer2(x)\n",
    "        return x"
   ]
  },
  {
   "attachments": {},
   "cell_type": "markdown",
   "metadata": {},
   "source": [
    "And now train:"
   ]
  },
  {
   "cell_type": "code",
   "execution_count": 26,
   "metadata": {},
   "outputs": [],
   "source": [
    "def train(model, criterion, optimiser, train_loader, n_epochs):\n",
    "    \n",
    "    training_loss = []\n",
    "\n",
    "    device = 'cuda' if torch.cuda.is_available() else 'cpu'\n",
    "    model.to(device)\n",
    "\n",
    "    def one_batch(x, y, sw):\n",
    "        x, y, sw = x.to(device), y.to(device), sw.to(device)\n",
    "        criterion.zero_grad()\n",
    "        output = model(x)\n",
    "        loss = criterion(output, y,)\n",
    "        loss = (loss * sw / sw.sum()).sum()\n",
    "        loss.mean().backward()\n",
    "        optimiser.step()\n",
    "        return loss\n",
    "\n",
    "    def one_epoch(train_loader):\n",
    "        epoch_loss = []\n",
    "        for batch in train_loader:\n",
    "            loss = one_batch(*batch)\n",
    "            epoch_loss.append(loss.item())\n",
    "        return epoch_loss\n",
    "\n",
    "    for epoch in tqdm.tqdm(range(n_epochs), desc='Training'):\n",
    "        epoch_loss = one_epoch(train_loader)\n",
    "        training_loss.extend(epoch_loss)\n",
    "\n",
    "    model.to('cpu')\n",
    "\n",
    "    return training_loss"
   ]
  },
  {
   "cell_type": "code",
   "execution_count": 28,
   "metadata": {},
   "outputs": [],
   "source": [
    "batch_x = next(iter(train_dl))[0]\n",
    "lstm = LSTMModel(batch_x.shape[2], batch_x.shape[1], 64)"
   ]
  },
  {
   "cell_type": "code",
   "execution_count": 30,
   "metadata": {},
   "outputs": [
    {
     "name": "stderr",
     "output_type": "stream",
     "text": [
      "Training: 100%|███████████████████████████████████████████████████████████████████| 50/50 [00:03<00:00, 15.24it/s]\n"
     ]
    }
   ],
   "source": [
    "training_loss = train(\n",
    "    model=lstm, \n",
    "    criterion=nn.CrossEntropyLoss(reduction='none'), \n",
    "    optimiser=torch.optim.Adam(lstm.parameters(), lr=0.001),\n",
    "    train_loader=train_dl,\n",
    "    n_epochs=50,\n",
    "    )"
   ]
  },
  {
   "cell_type": "code",
   "execution_count": 32,
   "metadata": {},
   "outputs": [
    {
     "data": {
      "text/plain": [
       "[<matplotlib.lines.Line2D at 0x16494cb00>]"
      ]
     },
     "execution_count": 32,
     "metadata": {},
     "output_type": "execute_result"
    },
    {
     "data": {
      "image/png": "[encoded data removed]",
      "text/plain": [
       "<Figure size 640x480 with 1 Axes>"
      ]
     },
     "metadata": {},
     "output_type": "display_data"
    }
   ],
   "source": [
    "plt.plot(training_loss)"
   ]
  },
  {
   "attachments": {},
   "cell_type": "markdown",
   "metadata": {},
   "source": [
    "And predict:"
   ]
  },
  {
   "cell_type": "code",
   "execution_count": 35,
   "metadata": {},
   "outputs": [],
   "source": [
    "def predict(model, test_loader):\n",
    "    device = 'cuda' if torch.cuda.is_available() else 'cpu'\n",
    "    model.to(device)\n",
    "\n",
    "    predictions = []\n",
    "    targets = []\n",
    "\n",
    "    for x, y, sw in test_loader:\n",
    "        x, y, sw = x.to(device), y.to(device), sw.to(device)\n",
    "        outputs = model(x)\n",
    "        predictions.append(F.softmax(outputs, dim=1))\n",
    "        targets.append(y)\n",
    "    \n",
    "    return torch.cat(predictions).to('cpu'), torch.cat(targets).to('cpu')"
   ]
  },
  {
   "cell_type": "code",
   "execution_count": 37,
   "metadata": {},
   "outputs": [],
   "source": [
    "predictions, targets = predict(lstm, test_dl)"
   ]
  },
  {
   "cell_type": "code",
   "execution_count": 39,
   "metadata": {},
   "outputs": [
    {
     "name": "stdout",
     "output_type": "stream",
     "text": [
      "The confusion matrix is:\n",
      "[[373  36]\n",
      " [  9   4]]\n"
     ]
    }
   ],
   "source": [
    "cfm = metrics.confusion_matrix(targets, predictions.max(dim=1).indices)\n",
    "print(f\"The confusion matrix is:\\n{cfm}\")"
   ]
  },
  {
   "cell_type": "code",
   "execution_count": 41,
   "metadata": {},
   "outputs": [
    {
     "name": "stdout",
     "output_type": "stream",
     "text": [
      "The recall was 30.77%\n"
     ]
    }
   ],
   "source": [
    "recall = metrics.recall_score(targets, predictions.max(dim=1).indices)\n",
    "print(f\"The recall was {recall*100:.2f}%\")"
   ]
  },
  {
   "cell_type": "code",
   "execution_count": 43,
   "metadata": {},
   "outputs": [
    {
     "name": "stdout",
     "output_type": "stream",
     "text": [
      "The sensitivity is: 30.77%\n"
     ]
    }
   ],
   "source": [
    "sensitivity = cfm[1,1]/cfm[1,:].sum()\n",
    "print(f\"The sensitivity is: {sensitivity*100:.2f}%\")"
   ]
  },
  {
   "cell_type": "code",
   "execution_count": 45,
   "metadata": {},
   "outputs": [
    {
     "name": "stdout",
     "output_type": "stream",
     "text": [
      "The specificity is: 91.20%\n"
     ]
    }
   ],
   "source": [
    "specificity = cfm[0,0]/cfm[0,:].sum()\n",
    "print(f\"The specificity is: {specificity*100:.2f}%\")"
   ]
  },
  {
   "cell_type": "code",
   "execution_count": null,
   "metadata": {},
   "outputs": [],
   "source": []
  },
  {
   "cell_type": "code",
   "execution_count": null,
   "metadata": {},
   "outputs": [],
   "source": []
  }
 ],
 "metadata": {
  "kernelspec": {
   "display_name": "Python 3 (ipykernel)",
   "language": "python",
   "name": "python3"
  },
  "language_info": {
   "codemirror_mode": {
    "name": "ipython",
    "version": 3
   },
   "file_extension": ".py",
   "mimetype": "text/x-python",
   "name": "python",
   "nbconvert_exporter": "python",
   "pygments_lexer": "ipython3",
   "version": "3.12.2"
  },
  "vscode": {
   "interpreter": {
    "hash": "8ffa9458eb812bc86d8ec9c6172a4488b6504c6d9033306e2462dfb6e563f266"
   }
  }
 },
 "nbformat": 4,
 "nbformat_minor": 4
}
