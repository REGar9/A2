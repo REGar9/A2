{
 "cells": [
  {
   "cell_type": "code",
   "execution_count": 3,
   "id": "0bded86b-5cab-437c-a514-46d15ec084cd",
   "metadata": {},
   "outputs": [],
   "source": [
    "import torch\n",
    "import sklearn"
   ]
  },
  {
   "cell_type": "code",
   "execution_count": 13,
   "id": "9f7c1b65-5f69-4280-8a48-6ed3392454bb",
   "metadata": {},
   "outputs": [
    {
     "name": "stdout",
     "output_type": "stream",
     "text": [
      "dsasdd\n",
      "dsasdd\n"
     ]
    }
   ],
   "source": [
    "print(\"dsasdd\")\n",
    "print(\"dsasdd\")"
   ]
  },
  {
   "cell_type": "code",
   "execution_count": null,
   "id": "1c405828-7c60-4b36-bd6f-efe06aaab6ca",
   "metadata": {},
   "outputs": [],
   "source": [
    "print(\"32\")"
   ]
  },
  {
   "cell_type": "code",
   "execution_count": null,
   "id": "cffc7341-9199-4077-8d09-7a729374e9ba",
   "metadata": {},
   "outputs": [],
   "source": [
    "print(\"356243234242343423423443232423423423423u48253678345632656253jgfsdfgjgsiufg6\")"
   ]
  },
  {
   "cell_type": "code",
   "execution_count": null,
   "id": "c13d99e8-319b-4acb-81d4-5773512ce2ac",
   "metadata": {},
   "outputs": [],
   "source": [
    "print(\"dsa6565sdd\")"
   ]
  },
  {
   "cell_type": "code",
   "execution_count": null,
   "id": "4a07c004-caab-4960-a7ae-c0169053568f",
   "metadata": {},
   "outputs": [],
   "source": [
    "print(\"dsa6sdd\")"
   ]
  },
  {
   "cell_type": "code",
   "execution_count": null,
   "id": "85dcb780-d00d-419e-8a0e-dae348e03d99",
   "metadata": {},
   "outputs": [],
   "source": [
    "print(\"dsasdd\")"
   ]
  }
 ],
 "metadata": {
  "kernelspec": {
   "display_name": "Python 3 (ipykernel)",
   "language": "python",
   "name": "python3"
  },
  "language_info": {
   "codemirror_mode": {
    "name": "ipython",
    "version": 3
   },
   "file_extension": ".py",
   "mimetype": "text/x-python",
   "name": "python",
   "nbconvert_exporter": "python",
   "pygments_lexer": "ipython3",
   "version": "3.12.2"
  }
 },
 "nbformat": 4,
 "nbformat_minor": 5
}
