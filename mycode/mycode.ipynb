{
 "cells": [
  {
   "cell_type": "code",
   "execution_count": 3,
   "id": "0bded86b-5cab-437c-a514-46d15ec084cd",
   "metadata": {},
   "outputs": [],
   "source": [
    "import torch\n",
    "import sklearn"
   ]
  },
  {
   "cell_type": "code",
   "execution_count": 13,
   "id": "9f7c1b65-5f69-4280-8a48-6ed3392454bb",
   "metadata": {},
   "outputs": [
    {
     "name": "stdout",
     "output_type": "stream",
     "text": [
      "dsasdd\n",
      "dsasdd\n"
     ]
    }
   ],
   "source": [
    "print(\"dsasdd\")\n",
    "print(\"dsasdd\")"
   ]
  },
  {
   "cell_type": "code",
   "execution_count": null,
   "id": "1c405828-7c60-4b36-bd6f-efe06aaab6ca",
   "metadata": {},
   "outputs": [],
   "source": [
    "print(\"32\")"
   ]
  },
  {
   "cell_type": "code",
   "execution_count": null,
   "id": "cffc7341-9199-4077-8d09-7a729374e9ba",
   "metadata": {},
   "outputs": [],
   "source": [
    "print(\"屬層曦356243234242343423423443232423423423423u48253678345632656253jgfsdfgjgsiufghfudsh6fufhsdfiushfhsuifhshffisfs6\")"
   ]
  },
  {
   "cell_type": "code",
   "execution_count": null,
   "id": "c13d99e8-319b-4acb-81d4-5773512ce2ac",
   "metadata": {},
   "outputs": [],
   "source": [
    "print(\"dsa6565sdd\")"
   ]
  },
  {
   "cell_type": "code",
   "execution_count": null,
   "id": "4a07c004-caab-4960-a7ae-c0169053568f",
   "metadata": {},
   "outputs": [],
   "source": [
    "print(\"dsa6sdd\")"
   ]
  },
  {
   "cell_type": "code",
   "execution_count": 2,
   "id": "85dcb780-d00d-419e-8a0e-dae348e03d99",
   "metadata": {},
   "outputs": [
    {
     "name": "stdout",
     "output_type": "stream",
     "text": [
      "dsasdd\n"
     ]
    }
   ],
   "source": [
    "print(\"dsasdd\")"
   ]
  },
  {
   "cell_type": "code",
   "execution_count": 4,
   "id": "861d68fc-3c68-445b-aa1e-4dabc007162b",
   "metadata": {},
   "outputs": [
    {
     "name": "stdout",
     "output_type": "stream",
     "text": [
      "Original Data:\n",
      "[[ 1.  2. nan]\n",
      " [ 3. nan  4.]\n",
      " [ 5.  6.  7.]]\n",
      "\n",
      "Imputed Data:\n",
      "[[1.  2.  5.5]\n",
      " [3.  4.  4. ]\n",
      " [5.  6.  7. ]]\n"
     ]
    }
   ],
   "source": [
    "import numpy as np\n",
    "from sklearn.impute import SimpleImputer\n",
    "\n",
    "# Example numerical data with missing values\n",
    "data = np.array([[1, 2, np.nan],\n",
    "                 [3, np.nan, 4],\n",
    "                 [5, 6, 7]])\n",
    "\n",
    "# Create an imputer object without specifying a strategy (defaults to 'mean')\n",
    "imputer = SimpleImputer()\n",
    "\n",
    "# Fit and transform the data\n",
    "data_imputed = imputer.fit_transform(data)\n",
    "\n",
    "print(\"Original Data:\")\n",
    "print(data)\n",
    "print(\"\\nImputed Data:\")\n",
    "print(data_imputed)\n"
   ]
  },
  {
   "cell_type": "code",
   "execution_count": 6,
   "id": "b04ae0cd-7480-41e7-b745-e326984c3c28",
   "metadata": {},
   "outputs": [
    {
     "name": "stdout",
     "output_type": "stream",
     "text": [
      "Hello, and welcome!\n"
     ]
    }
   ],
   "source": [
    "class Parent:\n",
    "  def __init__(self, txt):\n",
    "    self.message = txt\n",
    "\n",
    "  def printmessage(self):\n",
    "    print(self.message)\n",
    "\n",
    "class Child(Parent):\n",
    "  def __init__(self, txt):\n",
    "    super().__init__(txt)\n",
    "\n",
    "x = Child(\"Hello, and welcome!\")\n",
    "\n",
    "x.printmessage()"
   ]
  },
  {
   "cell_type": "code",
   "execution_count": null,
   "id": "6db412d4-060b-4d1b-8c69-7dc242ec2e81",
   "metadata": {},
   "outputs": [],
   "source": []
  }
 ],
 "metadata": {
  "kernelspec": {
   "display_name": "Python 3 (ipykernel)",
   "language": "python",
   "name": "python3"
  },
  "language_info": {
   "codemirror_mode": {
    "name": "ipython",
    "version": 3
   },
   "file_extension": ".py",
   "mimetype": "text/x-python",
   "name": "python",
   "nbconvert_exporter": "python",
   "pygments_lexer": "ipython3",
   "version": "3.12.2"
  }
 },
 "nbformat": 4,
 "nbformat_minor": 5
}
